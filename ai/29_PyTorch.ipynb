{
  "nbformat": 4,
  "nbformat_minor": 0,
  "metadata": {
    "colab": {
      "name": "29. PyTorch.ipynb",
      "provenance": [],
      "collapsed_sections": []
    },
    "kernelspec": {
      "name": "python3",
      "display_name": "Python 3"
    },
    "language_info": {
      "name": "python"
    }
  },
  "cells": [
    {
      "cell_type": "markdown",
      "source": [
        "## TensorFlow\n",
        "\n",
        "- Tensorflow는 구글 브레인에서 개발\n",
        "- 현재 구글의 연구와 프로덕션 모두에서 활발하게 사용\n",
        "- 2.x로 오면서 많은 것이 편리하게 변화\n",
        "- Tensorflow.js의 릴리즈\n",
        "  - 브라우저에서 파이썬 모델을 돌릴 수 있게 됨\n",
        "  - 자바스크립트만으로도 돌릴 수 있게됨\n",
        "- Tensorflow Lite의 릴리즈\n",
        "  - 모바일 및 임베디드 기기에서 동작할 수 있게 함\n",
        "- Tensorflow Extended (TFX)의 릴리즈\n",
        "  - ML pipeline을 위한 end-to-end 플랫폼\n",
        "  - 유지보수, 모듈화 등에 큰 도움이 됨\n",
        "- TensorFlow는 머신러닝을 위한 엔드 투 엔드 오픈소스 플랫폼\n",
        "- 도구, 라이브러리, 커뮤니티 리소스로 구성된 포괄적이고 유연한 생태계\n"
      ],
      "metadata": {
        "id": "h9CSr4EHueeF"
      }
    },
    {
      "cell_type": "markdown",
      "source": [
        "## TF vs Theano vs Torch (초기 기준)\n",
        "\n",
        "### TF\n",
        "\n",
        "- 테아노와 유사하게 네트워크 기반의 심볼릭 그래피르르 사용\n",
        "- 파이썬과 C/C++ 모두 사용이 가능하지만 주력은 파이썬\n",
        "- 텐소보드(TensorBoard)를 통해 비주얼라이제이션을 지원\n",
        "- 단점: 성능상, 그리고 테아노의 scan같은 네트워크에 있는 심볼릭들을 루핑(loop)할 수 있는 기능 X\n",
        "\n",
        "### 테아노\n",
        "\n",
        "- 심볼릭 텐서 그래프를 사용하는 최초의 프레임워크로 토치 같은 프레임워크보다 유연\n",
        "- 테아노를 기반으로 하는 고수준 프레임워크들도 존재하고 있고 텐서플로우나 토치에서는 지원되지 않는 윈도우즈 환경에서도 사용 가능\n",
        "- 반면 텐서플로우에는 없는 컴파일 프로세스로 인한 오버헤드가 단점\n",
        "- 파이썬 모듀을 로딩하는 impoirt theano 명령이 느리고 확장이나 개선이 어려운 복잡한 구조\n",
        "\n",
        "### 토치\n",
        "\n",
        "- 토치는 컨볼루션(합성곱 신경망) 부분에서 좋은 성능을 보이고 있고 여러가지 컨볼루션 알고리즘을 구현"
      ],
      "metadata": {
        "id": "jcBrsubKvOCw"
      }
    },
    {
      "cell_type": "markdown",
      "source": [
        "## PyTorch\n",
        "\n",
        "- 딥러닝 알고리즘이 가지는 많은 연산량 무제 해결을 위해 GPU를 사용하여 행렬연산을 가속하는 테아노라는 딥러닝 프레임워크가 개발\n",
        "- 이후 케라스 같은 오픈소스 라이브러리들이 테아노를 기반으로 탄생\n",
        "- 직관적이지 않은 사용법과 잦은 버그, 대형 모델에 적용하기 어려운 점으로 개발 중단\n",
        "- 텐서플로우, 카페, MXNet, CNTK의 발전이 활성화\n",
        "- 2017년 초에 공개된 딥러닝 프레임워크로 개발자들과 연구자들이 쉽게 GPU를 활용하여 인공 신경망 모델을 만들고 학습시킬 수 있게 도와줌\n",
        "- 파이토치의 전신이라고 할 수 있는 토치(torch)는 루아 프로그래밍 언어로 되어 있었지만, 파이토치는 파이썬으로 작성되어 파이썬의 언어 특징을 많이 가짐\n",
        "- 즉, Lua 기반의 토치 프레임워크로 페이스북 주도로 여러 회사와 대학이 함께 개발한 오픈소스 소프트웨어\n",
        "- OOP 스타일로서 파이썬을 파이썬 답게 쓸 수 있게 함"
      ],
      "metadata": {
        "id": "QmqqMHnWv2XM"
      }
    },
    {
      "cell_type": "markdown",
      "source": [
        "## Define and Run vs Define by Run\n",
        "\n",
        "- 텐서플로와 파이토치는 둘 다 연산에 GPU를 이용하는 프레임워크\n",
        "- 텐서플로는 연산 그래프를 먼저 만들고 실제 연산할 때 값을 전달하여 결과를 얻는 'Define and Run' 방식\n",
        "  - 그래프를 먼저 정의하고 세션에서 실제로 값을 집어넣어 결과를 도출\n",
        "  - 비직관적\n",
        "  - 그래프를 정의하는 부분과 이를 돌리는 부분이 분리되기 떄문에 전체적으로 코드 길이가 길어짐\n",
        "- 파이토치는 그래프를 만듦과 동시에 할당되는 'Define by Run'방식\n",
        "  - 연산 그래프를 정의하는 것과 동시에 갑솓 초기화되어 연산이 이루어지는 'Define by Run'\n",
        "  - 연산 그래프와 연산을 분리해서 생각할 필요가 없다.\n",
        "\n",
        "### Define and Run\n",
        "\n",
        "- TensorFlow, Caffe, torch, nn, and Theano-based frameworks\n",
        "\n",
        "### Define by Run\n",
        "\n",
        "- Chainer, PyTorch"
      ],
      "metadata": {
        "id": "XN-BVvZ2wfzN"
      }
    },
    {
      "cell_type": "markdown",
      "source": [
        "## 파이토치의 가시성\n",
        "\n",
        "### 파이토치\n",
        "\n",
        "- 눈에 잘보이도록 하는 것으로 파이썬과 넘파이를 알고있다면 쉽게 적응하고 사용이 가능\n",
        "- Dynamic computational graph\n",
        "  - 실행 중에 그래프 변경이 가능\n",
        "  - 데이터에 실시간으로 대응하는 동적인 학습 방법\n",
        "\n",
        "### 텐서플로우\n",
        "- 구글 서비스 엔지니어링을 위해 만들어 졌기 때문에 어려운 느낌\n",
        "- Static computational graph\n",
        "  - 정적 계산 그래프\n",
        "  - 변수들이 지나가는 길인 그래프를 미리 정해주고 실행 중에 바꿀수 없음\n",
        "  - c언어와 비슷함\n",
        "  - 최적화 하기 쉽지만 파이썬과 성격이 조금 다름"
      ],
      "metadata": {
        "id": "DP-t50VPw7Xe"
      }
    },
    {
      "cell_type": "markdown",
      "source": [
        "## Numpy와 PyTorch\n",
        "\n",
        "- Numpy 배열: 더 빠른 수학 연산을 지원하도록 설계된 numpy 패키지의 핵심 기능\n",
        "- 데이터 전처리에 사용되는 pandas와 같은 라이브러리는 numpy 배열을 중심으로 구축\n",
        "- PyTorch 텐서는 numpy 배열과 유사하지만 CUDA지원 Nvidia GPU에서도 작동\n",
        "- Numpy 배열은 주로 일반적인 기계 학습 알고리즘(scikit-learn의 k-means 또는 Decision Tree)에 사용되는 반면, pytorch 텐서는 딥한 행렬 계산이 필요한 딥러닝에 주로 사용\n",
        "- numpy 배열과 달리 pytorch 텐서는 deivce_type(계산이 CPU에서 발생하는지 GPU에서 발생하는지 여부) 및 requires_grad(도함수를 계산하는데 사용됨)라는 두 개의 다른 인수를 추가 사용\n",
        "\n",
        "\n",
        "```python3\n",
        "array1 = np.array([1, 2, 3, 4])\n",
        "list1 = [[1, 2, 3, 4], [5, 6, 7, 8]]\n",
        "array2 = np.array(list1)\n",
        "array3 = np.array([1, 2, 3, 4], dtype=np.float64)\n",
        "type(array1), array1.dtype\n",
        "# (numpy.ndarray, dtype('int64'))\n",
        "```\n",
        "\n",
        "\n",
        "```python3\n",
        "tensor1 = torch.tensor([1, 2, 34])\n",
        "numpy_arr1 = np.array([11, 21, 322])\n",
        "tensor2 = torch.tensor(numpy_arr1)\n",
        "type(tensor1), tensor1.dtype\n",
        "# (torch.Tensor, torch.int64)\n",
        "```\n",
        "\n",
        "\n",
        "```python3\n",
        "torch.rand(2, 3) # pythorch way\n",
        "np.random.rand(2, 3) # numpy way\n",
        "```\n",
        "\n",
        "#### 재현성을 보장하기 위해 seed 기능을 사용\n",
        "\n",
        "```python3\n",
        "np.random.seed(133)\n",
        "torch.manual_seed(123) # for both CPU and CUDA\n",
        "```"
      ],
      "metadata": {
        "id": "Il1CMH4NxsrY"
      }
    },
    {
      "cell_type": "markdown",
      "source": [
        "## Numpy와 Pytorch - Reshaping the array"
      ],
      "metadata": {
        "id": "OETo8SsZzVpq"
      }
    },
    {
      "cell_type": "code",
      "source": [
        "import numpy as np\n",
        "import torch"
      ],
      "metadata": {
        "id": "FPWwYOY6zgX-"
      },
      "execution_count": null,
      "outputs": []
    },
    {
      "cell_type": "code",
      "source": [
        "np_arr3 = np.random.randint(100, size=(3, 5))"
      ],
      "metadata": {
        "id": "VeNaTwgTzbZQ"
      },
      "execution_count": null,
      "outputs": []
    },
    {
      "cell_type": "code",
      "source": [
        "np_arr3"
      ],
      "metadata": {
        "colab": {
          "base_uri": "https://localhost:8080/"
        },
        "id": "MATl7C8hzfTw",
        "outputId": "817862cb-7b72-455d-f38c-b68cbee34b5e"
      },
      "execution_count": null,
      "outputs": [
        {
          "output_type": "execute_result",
          "data": {
            "text/plain": [
              "array([[16, 19, 57, 66, 68],\n",
              "       [ 0, 28,  5, 14, 22],\n",
              "       [85, 88, 68, 75, 19]])"
            ]
          },
          "metadata": {},
          "execution_count": 4
        }
      ]
    },
    {
      "cell_type": "code",
      "source": [
        "np_arr3.reshape(1, -1)"
      ],
      "metadata": {
        "colab": {
          "base_uri": "https://localhost:8080/"
        },
        "id": "TrX2BckuzyY-",
        "outputId": "cdb00803-9647-4b41-ee81-4850d908ebd5"
      },
      "execution_count": null,
      "outputs": [
        {
          "output_type": "execute_result",
          "data": {
            "text/plain": [
              "array([[16, 19, 57, 66, 68,  0, 28,  5, 14, 22, 85, 88, 68, 75, 19]])"
            ]
          },
          "metadata": {},
          "execution_count": 5
        }
      ]
    },
    {
      "cell_type": "code",
      "source": [
        "np_arr = np.array([1, 2, 3, 4, 5, 6, 7, 8])\n",
        "new_arr = np_arr.reshape(2, 2, -1)"
      ],
      "metadata": {
        "id": "r5UGhSTtz0ZY"
      },
      "execution_count": null,
      "outputs": []
    },
    {
      "cell_type": "code",
      "source": [
        "np_arr.reshape(2, -1, -1)"
      ],
      "metadata": {
        "colab": {
          "base_uri": "https://localhost:8080/",
          "height": 166
        },
        "id": "JoXuCvKEz6qG",
        "outputId": "5d975a51-cc79-4352-e0bd-eafcaa2276a4"
      },
      "execution_count": null,
      "outputs": [
        {
          "output_type": "error",
          "ename": "ValueError",
          "evalue": "ignored",
          "traceback": [
            "\u001b[0;31m---------------------------------------------------------------------------\u001b[0m",
            "\u001b[0;31mValueError\u001b[0m                                Traceback (most recent call last)",
            "\u001b[0;32m<ipython-input-8-7cd341a128ef>\u001b[0m in \u001b[0;36m<module>\u001b[0;34m()\u001b[0m\n\u001b[0;32m----> 1\u001b[0;31m \u001b[0mnp_arr\u001b[0m\u001b[0;34m.\u001b[0m\u001b[0mreshape\u001b[0m\u001b[0;34m(\u001b[0m\u001b[0;36m2\u001b[0m\u001b[0;34m,\u001b[0m \u001b[0;34m-\u001b[0m\u001b[0;36m1\u001b[0m\u001b[0;34m,\u001b[0m \u001b[0;34m-\u001b[0m\u001b[0;36m1\u001b[0m\u001b[0;34m)\u001b[0m\u001b[0;34m\u001b[0m\u001b[0;34m\u001b[0m\u001b[0m\n\u001b[0m",
            "\u001b[0;31mValueError\u001b[0m: can only specify one unknown dimension"
          ]
        }
      ]
    },
    {
      "cell_type": "code",
      "source": [
        "tensor1 = torch.tensor([1, 2, 3, 4, 5, 6, 7, 8])"
      ],
      "metadata": {
        "id": "gT4tMYaN0BsY"
      },
      "execution_count": null,
      "outputs": []
    },
    {
      "cell_type": "code",
      "source": [
        "tensor1.reshape(2, 2, -1)"
      ],
      "metadata": {
        "colab": {
          "base_uri": "https://localhost:8080/"
        },
        "id": "uHNdtroX0G68",
        "outputId": "30fae209-a117-413e-fe17-73ba59163e29"
      },
      "execution_count": null,
      "outputs": [
        {
          "output_type": "execute_result",
          "data": {
            "text/plain": [
              "tensor([[[1, 2],\n",
              "         [3, 4]],\n",
              "\n",
              "        [[5, 6],\n",
              "         [7, 8]]])"
            ]
          },
          "metadata": {},
          "execution_count": 10
        }
      ]
    },
    {
      "cell_type": "code",
      "source": [
        "x = torch.randn(2, 5)"
      ],
      "metadata": {
        "id": "cfVZ_TRU0Ir4"
      },
      "execution_count": null,
      "outputs": []
    },
    {
      "cell_type": "code",
      "source": [
        "x"
      ],
      "metadata": {
        "colab": {
          "base_uri": "https://localhost:8080/"
        },
        "id": "jKbBpzUa0WCe",
        "outputId": "339e25d6-008b-4e4e-cfd8-0f5828f07291"
      },
      "execution_count": null,
      "outputs": [
        {
          "output_type": "execute_result",
          "data": {
            "text/plain": [
              "tensor([[ 0.9321, -0.2869,  1.1985, -0.2102,  0.8424],\n",
              "        [ 1.4058, -0.0882,  0.9620, -1.4622,  1.1667]])"
            ]
          },
          "metadata": {},
          "execution_count": 12
        }
      ]
    },
    {
      "cell_type": "code",
      "source": [
        "x.permute(1, 0)"
      ],
      "metadata": {
        "colab": {
          "base_uri": "https://localhost:8080/"
        },
        "id": "KZxtevgz0Wg-",
        "outputId": "c1994a9e-c1b4-4157-fabb-73b4aa1d5289"
      },
      "execution_count": null,
      "outputs": [
        {
          "output_type": "execute_result",
          "data": {
            "text/plain": [
              "tensor([[ 0.9321,  1.4058],\n",
              "        [-0.2869, -0.0882],\n",
              "        [ 1.1985,  0.9620],\n",
              "        [-0.2102, -1.4622],\n",
              "        [ 0.8424,  1.1667]])"
            ]
          },
          "metadata": {},
          "execution_count": 13
        }
      ]
    },
    {
      "cell_type": "code",
      "source": [
        "x.reshape(5, 2)"
      ],
      "metadata": {
        "colab": {
          "base_uri": "https://localhost:8080/"
        },
        "id": "J9f3TtV10YD4",
        "outputId": "6057ca50-7ff3-4f34-e0c3-1f5f8e3aa430"
      },
      "execution_count": null,
      "outputs": [
        {
          "output_type": "execute_result",
          "data": {
            "text/plain": [
              "tensor([[ 0.9321, -0.2869],\n",
              "        [ 1.1985, -0.2102],\n",
              "        [ 0.8424,  1.4058],\n",
              "        [-0.0882,  0.9620],\n",
              "        [-1.4622,  1.1667]])"
            ]
          },
          "metadata": {},
          "execution_count": 14
        }
      ]
    },
    {
      "cell_type": "markdown",
      "source": [
        "## Numpy와 Pytorch - Add a new dimension"
      ],
      "metadata": {
        "id": "FTZkSNy80cer"
      }
    },
    {
      "cell_type": "code",
      "source": [
        "x = np.random.rand(2, 3)"
      ],
      "metadata": {
        "id": "SvijBiSK0aAu"
      },
      "execution_count": null,
      "outputs": []
    },
    {
      "cell_type": "code",
      "source": [
        "np.expand_dims(x, axis=0).shape"
      ],
      "metadata": {
        "colab": {
          "base_uri": "https://localhost:8080/"
        },
        "id": "V__f4_2m0b8K",
        "outputId": "35c060a7-0177-41f2-9c8b-7ec7f24bac2b"
      },
      "execution_count": null,
      "outputs": [
        {
          "output_type": "execute_result",
          "data": {
            "text/plain": [
              "(1, 2, 3)"
            ]
          },
          "metadata": {},
          "execution_count": 18
        }
      ]
    },
    {
      "cell_type": "code",
      "source": [
        "y = torch.rand(2, 3)"
      ],
      "metadata": {
        "id": "Sx721J_T0lbc"
      },
      "execution_count": null,
      "outputs": []
    },
    {
      "cell_type": "code",
      "source": [
        "y.unsqueeze(0).shape"
      ],
      "metadata": {
        "colab": {
          "base_uri": "https://localhost:8080/"
        },
        "id": "FbJYPghn0uuu",
        "outputId": "de4c6ca0-7efe-4a86-81b5-3503989dfab2"
      },
      "execution_count": null,
      "outputs": [
        {
          "output_type": "execute_result",
          "data": {
            "text/plain": [
              "torch.Size([1, 2, 3])"
            ]
          },
          "metadata": {},
          "execution_count": 20
        }
      ]
    },
    {
      "cell_type": "code",
      "source": [
        ""
      ],
      "metadata": {
        "id": "PdMTq5pj0wfa"
      },
      "execution_count": null,
      "outputs": []
    }
  ]
}
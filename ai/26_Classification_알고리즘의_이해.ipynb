{
  "nbformat": 4,
  "nbformat_minor": 0,
  "metadata": {
    "colab": {
      "name": "26. Classification 알고리즘의 이해",
      "provenance": [],
      "collapsed_sections": []
    },
    "kernelspec": {
      "name": "python3",
      "display_name": "Python 3"
    },
    "language_info": {
      "name": "python"
    }
  },
  "cells": [
    {
      "cell_type": "markdown",
      "source": [
        "## Classfication\n",
        "\n",
        "- 장비 고장 여부 분류\n",
        "- 금융 거래 사기 여부 판별\n",
        "- 세포 정상/비정상 여부 판별\n",
        "- 재료 물품의 A-E 등급 판별\n",
        "\n",
        "\n",
        "### 명확한 n개의 class 중 하나로 분류\n",
        "### 종속 변수가 연속형이 아닌 카테고리형"
      ],
      "metadata": {
        "id": "Ak_2woKbljqN"
      }
    },
    {
      "cell_type": "markdown",
      "source": [
        "## Binary Classification\n",
        "\n",
        "- Spam\n",
        "- Not spam(check)\n",
        "\n",
        "## Multiclass Classification\n",
        "\n",
        "- Dog(check)\n",
        "- Cat\n",
        "- Horse\n",
        "- Fish\n",
        "- Bird\n",
        "- ...\n",
        "\n",
        "## Multi-label Classification\n",
        "\n",
        "- Dog\n",
        "- Cat(check)\n",
        "- Horse\n",
        "- Fish\n",
        "- Bird(check)\n",
        "- ..."
      ],
      "metadata": {
        "id": "IkoeWIUBmNSQ"
      }
    },
    {
      "cell_type": "markdown",
      "source": [
        "## Logistic Regression(로지스틱 회귀)\n",
        "\n",
        "- 이진 분류 알고리즘 풀 때 사용\n",
        "\n",
        "### y = B0 + B1 * x\n",
        "\n",
        "### p = exp(B0 + B1 * x)\n",
        "\n",
        "### p = exp(B0 + B1 * x) / exp(B0 + B1 * x) + 1\n",
        "\n",
        "### p = exp(y) / exp(y) + 1\n",
        "\n",
        "### q = 1 - p = 1 - e^y / e^y + 1\n",
        "\n",
        "### odds = p / 1 - p\n",
        "\n",
        "### p / 1 - p = e^y\n",
        "\n",
        "### log(p / 1 - 9) = y\n",
        "\n",
        "### log(p / 1 - p)<logit> = B0 + B1 * x"
      ],
      "metadata": {
        "id": "r0lvgwM3msgz"
      }
    },
    {
      "cell_type": "markdown",
      "source": [
        "## k-Nearest Neighbors(k-NN)(k 최근접 이웃 알고리즘)\n",
        "\n",
        "- 멀티 클래스 분류 알고리즘(Multi-class Classification)\n",
        "- 데이터 수가 많아질 수록 컴퓨팅 계산이 오래 걸림"
      ],
      "metadata": {
        "id": "31V3sDKpoibT"
      }
    },
    {
      "cell_type": "markdown",
      "source": [
        "## Decision Tree(의사 결정 트리)\n",
        "\n",
        "- 순차적으로 여러 가지 규칙을 적용하는 나무와 유사한 형태\n",
        "- 데이터간의 관계를 선형으로 설명할 수 없을 때"
      ],
      "metadata": {
        "id": "m8uqmL8Tpfbw"
      }
    },
    {
      "cell_type": "markdown",
      "source": [
        "## Random Forest(랜덤 포레스트)\n",
        "\n",
        "- 낮은 오버피팅 위험, 높은 정확도"
      ],
      "metadata": {
        "id": "E_4Rk2YgqHM6"
      }
    },
    {
      "cell_type": "markdown",
      "source": [
        "## Support Vector Machine(서포트 백터 머신)\n",
        "\n",
        "- 효율적인 메모리 활용\n",
        "- 이진분류 알고리즘"
      ],
      "metadata": {
        "id": "kQNRf3uNqZ0p"
      }
    }
  ]
}
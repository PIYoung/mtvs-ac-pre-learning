{
  "nbformat": 4,
  "nbformat_minor": 0,
  "metadata": {
    "colab": {
      "name": "17. 웹 스크래핑 고급1",
      "provenance": [],
      "collapsed_sections": []
    },
    "kernelspec": {
      "name": "python3",
      "display_name": "Python 3"
    },
    "language_info": {
      "name": "python"
    }
  },
  "cells": [
    {
      "cell_type": "markdown",
      "source": [
        "## 셀레니움\n",
        "\n",
        "### 셀레니움이란?\n",
        "\n",
        "- 크롬, 익스플로어, 파이어폭스 같은 브라우저를 컨트롤 할 때 사용되는 라이브러리\n",
        "\n",
        "```bash\n",
        "pip install selenium\n",
        "pip install webdriver-manager\n",
        "```"
      ],
      "metadata": {
        "id": "oH5rFvEo7jCz"
      }
    }
  ]
}
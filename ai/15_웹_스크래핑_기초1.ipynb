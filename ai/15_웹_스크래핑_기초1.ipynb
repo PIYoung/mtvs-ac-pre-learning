{
  "nbformat": 4,
  "nbformat_minor": 0,
  "metadata": {
    "colab": {
      "name": "15. 웹 스크래핑 기초1",
      "provenance": [],
      "collapsed_sections": []
    },
    "kernelspec": {
      "name": "python3",
      "display_name": "Python 3"
    },
    "language_info": {
      "name": "python"
    }
  },
  "cells": [
    {
      "cell_type": "markdown",
      "source": [
        "## 웹 크롤링과 웹 스크래핑\n",
        "\n",
        "### 웹 크롤링(Web Crawling)\n",
        "\n",
        "- 봇이 많은 웹 사이트들을 돌아다니면서 URL, 키워드 등을 수집하는 것\n",
        "- 보통 검색 엔진에서 웹 사이트를 수집하기 위해 사용됨\n",
        "\n",
        "### 웹 스크래핑(Web Scraping)\n",
        "\n",
        "- 웹 사이트에서 필요한 데이터를 긁어오는 것"
      ],
      "metadata": {
        "id": "sknjk4v-UQR6"
      }
    },
    {
      "cell_type": "markdown",
      "source": [
        "## HTML 구조의 이해\n",
        "\n",
        "### HTML이란?\n",
        "\n",
        "- Hyper Text Markup Language 약어로 웹 페이지를 위한 언어\n"
      ],
      "metadata": {
        "id": "xB-bv-eKWref"
      }
    },
    {
      "cell_type": "markdown",
      "source": [
        "## requests 모듈\n",
        "\n",
        "- 파이썬에서 HTTP 호출할 때 사용되는 대표적인 라이브러리\n",
        "- 설치방법: pip install requests\n",
        "\n",
        "- GET: request.get\n",
        "- POST: request.post\n",
        "- PUT: request.put\n",
        "- DELETE: request.delete"
      ],
      "metadata": {
        "id": "HbT3AlctZQgU"
      }
    },
    {
      "cell_type": "code",
      "execution_count": null,
      "metadata": {
        "id": "BMY-ZSpeT95e"
      },
      "outputs": [],
      "source": [
        ""
      ]
    }
  ]
}
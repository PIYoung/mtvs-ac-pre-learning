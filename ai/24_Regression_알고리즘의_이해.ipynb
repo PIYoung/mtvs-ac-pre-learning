{
  "nbformat": 4,
  "nbformat_minor": 0,
  "metadata": {
    "colab": {
      "name": "24. Regression 알고리즘의 이해",
      "provenance": [],
      "collapsed_sections": []
    },
    "kernelspec": {
      "name": "python3",
      "display_name": "Python 3"
    },
    "language_info": {
      "name": "python"
    }
  },
  "cells": [
    {
      "cell_type": "markdown",
      "source": [
        "## Regression\n",
        "\n",
        "- 연속으로 이어지는 값 예측"
      ],
      "metadata": {
        "id": "mIeihpS_SGeA"
      }
    },
    {
      "cell_type": "markdown",
      "source": [
        "## Linear Regression(선형 회귀)\n",
        "\n",
        "- 양적 변수(quantitiative varialbes)간의 관계를 추정할 때\n",
        "- 변수 간의 관계가 얼마나 밀접한지 알아볼 때\n",
        "- 어떤 변수의 영향이 가장 높은지 알고 싶을 때\n",
        "- 각 변수별 영향의 정확도가 어느 정도인지 알고 싶을 때\n",
        "\n",
        "### 아래 조건을 모두 만족\n",
        "\n",
        "- 고른 데이터 분산(Homogeneity of variance)\n",
        "- 데이터 관찰의 독립성(Independence of observations)\n",
        "- 정규 분포를 따르는 데이터(Normality)\n",
        "- 독립변수와 종속변수가 선형의 관계(Linearity)"
      ],
      "metadata": {
        "id": "rikj43FgR12K"
      }
    },
    {
      "cell_type": "markdown",
      "source": [
        "## Simple Linear Regression(단순 선형 회귀)\n",
        "\n",
        "### y(종속변수) = B0 + B1 * x(독립변수)\n",
        "\n",
        "- 독립변수가 1개인 경우, 두개의 양정 변수(quantitative variables)간의 관계를 추정할 때 사용\n",
        "  - 예) 온도 변화에 따른 아이스크림 판매량, 연간 소득에 따른 행복 수준\n",
        "\n",
        "\n",
        "### 아래 조건을 모두 만족\n",
        "\n",
        "- 데이터 분산의 등질성\n",
        "- 데이터 관찰의 독립성\n",
        "- 정규 분포를 따르는 데이터\n",
        "- 독립변수와 종속변수가 선형의 관계\n",
        "- 하나의 독립변수, 하나의 종속변수"
      ],
      "metadata": {
        "id": "opmNhGSlSfXw"
      }
    },
    {
      "cell_type": "markdown",
      "source": [
        "## Multiple Linear Regression(다중 선형 회귀)\n",
        "\n",
        "### y = B0 + B1 * x1 + B2 * x2 + B3 * x3 ... + Bn * xn\n",
        "\n",
        "- 두 개 이상의 독립변수와 하나의 종속변수간의 관계를 추정할 때 사용\n",
        "  - 예) 근무 연수와 소속 부서에 따른 연봉 수준\n",
        "\n",
        "### 아래 조건을 모두 만족\n",
        "\n",
        "- 데이터 분산의 등질성\n",
        "- 데이터 관찰의 독립성\n",
        "- 정규 분포를 따르는 데이터\n",
        "- 독립변수와 종속변수가 선형의 관계\n",
        "- 두 개 이상의 독립변수, 하나의 종속변수\n",
        "\n",
        "#### 다중 선형 회귀의 경우, 일부 독립변수가 상관관계가 있을 수 있으므로, 먼저 상관관계를 확인해야 합니다."
      ],
      "metadata": {
        "id": "rFUqhTCGT_O7"
      }
    },
    {
      "cell_type": "markdown",
      "source": [
        "## Polynominal Linear Regression(다항 선형 회귀)\n",
        "\n",
        "### y = B0 + B1 * x + B2 * x^2 + B3 * x^3 + ... + Bn * x^n\n",
        "\n",
        "- 변수 사이에 상관 관계가 존재할 때\n",
        "- 데이터간의 관계를 선형으로 설명할 수 없을 때\n",
        "- 광범위한 범위의 곡률로 다양한 관계 설명 가능"
      ],
      "metadata": {
        "id": "XoK6a2gtXTHQ"
      }
    },
    {
      "cell_type": "markdown",
      "source": [
        "## SVR(Support Vector Regression)\n",
        "\n",
        "- 데이터가 선형인 경우, 비 선형인 경우 모두 사용 가능\n",
        "- 데이터에 노이즈가 존재한다고 가정"
      ],
      "metadata": {
        "id": "KT7EXYtpYzOZ"
      }
    },
    {
      "cell_type": "markdown",
      "source": [
        ""
      ],
      "metadata": {
        "id": "zx5b3ijFZq68"
      }
    },
    {
      "cell_type": "markdown",
      "source": [
        "## Decision Tree Regression(의사 결정 트리)\n",
        "\n",
        "- 순차적으로 여러 가지 규칙을 적용하는 나무와 유사한 형태\n",
        "- 데이터간의 관계를 선형으로 설명할 수 없을 때"
      ],
      "metadata": {
        "id": "RIsPL523ZJ4W"
      }
    },
    {
      "cell_type": "markdown",
      "source": [
        "## Random Forest Regression(랜덤 포레스트)\n",
        "\n",
        "- Decision Tree 방식 적용한 앙상블 모델(Ensembles Model)\n",
        "- Overfitting 위험 감소"
      ],
      "metadata": {
        "id": "ocjZrZUUZtjp"
      }
    }
  ]
}
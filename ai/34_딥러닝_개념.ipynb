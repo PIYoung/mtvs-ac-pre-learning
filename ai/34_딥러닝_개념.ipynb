{
  "nbformat": 4,
  "nbformat_minor": 0,
  "metadata": {
    "colab": {
      "name": "34. 딥러닝 개념.ipynb",
      "provenance": [],
      "collapsed_sections": []
    },
    "kernelspec": {
      "name": "python3",
      "display_name": "Python 3"
    },
    "language_info": {
      "name": "python"
    }
  },
  "cells": [
    {
      "cell_type": "markdown",
      "source": [
        "## 알아야하는 개념\n",
        "\n",
        "### 1. Perceptron\n",
        "\n",
        "\n",
        "### 2. MLP(Multi Layer Perceptron)\n",
        "\n",
        "\n",
        "### 3. Weight Intialization\n",
        "\n",
        "\n",
        "### 4. Forward Propagation(순전파)\n",
        "\n",
        "- input -> hidden -> output 순으로 계산\n",
        "\n",
        "### 5. Cost Function(비용 함수)\n",
        "\n",
        "- loss function\n",
        "- error function\n",
        "- objective function\n",
        "- 모델 예측 값과 실제 데이터 값으 차이(y - y')를 기반으로 모델의 정확도(성능)을 판단하는 함수\n",
        "\n",
        "### 6. Gradient Descent(경사하강법)\n",
        "\n",
        "- Optimizer의 시초\n",
        "\n",
        "\n",
        "### 7. Back Propagation(역전파)\n",
        "\n",
        "- output -> hidden -> input 순으로 계산\n",
        "\n",
        "\n",
        "### 8. Optimizer(최적화 알고리즘)\n",
        "\n",
        "- cost function 값이 최소가 되는 최적의 w(weight), b(bias)를 찾는 알고리즘\n",
        "\n"
      ],
      "metadata": {
        "id": "anU92ttvteBc"
      }
    }
  ]
}
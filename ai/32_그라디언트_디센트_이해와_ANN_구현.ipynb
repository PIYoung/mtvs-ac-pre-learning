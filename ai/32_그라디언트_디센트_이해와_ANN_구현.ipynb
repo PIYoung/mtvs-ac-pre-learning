{
  "nbformat": 4,
  "nbformat_minor": 0,
  "metadata": {
    "colab": {
      "name": "32. 그라디언트 디센트 이해와 ANN 구현.ipynb",
      "provenance": [],
      "collapsed_sections": []
    },
    "kernelspec": {
      "name": "python3",
      "display_name": "Python 3"
    },
    "language_info": {
      "name": "python"
    }
  },
  "cells": [
    {
      "cell_type": "code",
      "execution_count": null,
      "metadata": {
        "id": "LQX3laICpgcE"
      },
      "outputs": [],
      "source": [
        "import torch\n",
        "import numpy as np\n",
        "from sklearn.datasets import make_blobs\n",
        "import matplotlib.pyplot as plt\n",
        "import torch.nn.functional as F"
      ]
    },
    {
      "cell_type": "code",
      "source": [
        "# ann(artificial neural network)\n",
        "n_dim = 2\n",
        "x_train, y_train = make_blobs(n_samples=80, n_features=n_dim, centers=[[1, 1], [-1, -1], [1, -1], [-1, 1]], shuffle=True, cluster_std=0.3)\n",
        "x_test, y_test = make_blobs(n_samples=20, n_features=n_dim, centers=[[1, 1], [-1, -1], [1, -1], [-1, 1]], shuffle=True, cluster_std=0.3)"
      ],
      "metadata": {
        "id": "4UC3n5YCUcUP"
      },
      "execution_count": null,
      "outputs": []
    },
    {
      "cell_type": "code",
      "source": [
        "def label_map(y_, from_, to_):\n",
        "  y = np.copy(y_)\n",
        "  for f in from_:\n",
        "    y[y_ == f] = to_\n",
        "    return y\n",
        "\n",
        "y_train = label_map(y_train, [0, 1], 0)\n",
        "y_train = label_map(y_train, [2, 3], 1)\n",
        "y_test = label_map(y_test, [0, 1], 0)\n",
        "y_test = label_map(y_test, [2, 3], 1)"
      ],
      "metadata": {
        "id": "o4GT2AUmVQ-8"
      },
      "execution_count": null,
      "outputs": []
    },
    {
      "cell_type": "code",
      "source": [
        "def vis_data(x, y=None, c='r'):\n",
        "  if y is None:\n",
        "    y = [None] * len(x)\n",
        "  \n",
        "  for x_, y_ in zip(x, y):\n",
        "    if y_ is None:\n",
        "      plt.plot(x_[0], x_[1], '*', markerfacecolor='none', markeredgecolor=c)\n",
        "    else:\n",
        "      plt.plot(x_[0], x_[1], c+'o' if y_ == 0 else c+'+')\n",
        "\n",
        "plt.figure()\n",
        "vis_data(x_train, y_train, c='r')\n",
        "plt.show()"
      ],
      "metadata": {
        "colab": {
          "base_uri": "https://localhost:8080/",
          "height": 265
        },
        "id": "MqpIUf1rVrjr",
        "outputId": "0b2c561b-1d7b-4f4a-d5d7-14ca877a7d66"
      },
      "execution_count": null,
      "outputs": [
        {
          "output_type": "display_data",
          "data": {
            "text/plain": [
              "<Figure size 432x288 with 1 Axes>"
            ],
            "image/png": "[encoded data removed]"
          },
          "metadata": {
            "needs_background": "light"
          }
        }
      ]
    },
    {
      "cell_type": "code",
      "source": [
        "x_train = torch.FloatTensor(x_train)\n",
        "x_test = torch.FloatTensor(x_test)\n",
        "y_train = torch.FloatTensor(y_train)\n",
        "y_test = torch.FloatTensor(y_test)\n",
        "print(x_train.shape)"
      ],
      "metadata": {
        "colab": {
          "base_uri": "https://localhost:8080/"
        },
        "id": "I4y2vFyjWUXg",
        "outputId": "7acd2185-c460-47dd-bef6-e4c755c3e264"
      },
      "execution_count": null,
      "outputs": [
        {
          "output_type": "stream",
          "name": "stdout",
          "text": [
            "torch.Size([80, 2])\n"
          ]
        }
      ]
    },
    {
      "cell_type": "code",
      "source": [
        "class NeuralNet(torch.nn.Module):\n",
        "  def __init__(self, input_size, hidden_size):\n",
        "    super(NeuralNet, self).__init__()\n",
        "    self.input_size = input_size\n",
        "    self.hidden_size = hidden_size\n",
        "    self.linear_1 = torch.nn.Linear(self.input_size, self.hidden_size)\n",
        "    self.relu = torch.nn.ReLU()\n",
        "    self.linear_2 = torch.nn.Linear(self.hidden_size, 1)\n",
        "    self.sigmoid = torch.nn.Sigmoid()\n",
        "  \n",
        "  def forward(self, input_tensor):\n",
        "    linear1 = self.linear_1(input_tensor)\n",
        "    relu = self.relu(linear1)\n",
        "    linear2 = self.linear_2(relu)\n",
        "    output = self.sigmoid(linear2)\n",
        "    return output"
      ],
      "metadata": {
        "id": "2jBYKheoXGsN"
      },
      "execution_count": null,
      "outputs": []
    },
    {
      "cell_type": "code",
      "source": [
        "model = NeuralNet(2, 5)\n",
        "learning_rate = 0.03\n",
        "criterion = torch.nn.MSELoss()\n",
        "epochs = 2000\n",
        "optimizer = torch.optim.SGD(model.parameters(), lr=learning_rate)"
      ],
      "metadata": {
        "id": "kV6X_Oi8Y96j"
      },
      "execution_count": null,
      "outputs": []
    },
    {
      "cell_type": "code",
      "source": [
        "model.eval()\n",
        "test_loss_before = criterion(model(x_test).squeeze(), y_test)\n",
        "print('Before Training, test loss is {}'.format(test_loss_before.item()))"
      ],
      "metadata": {
        "colab": {
          "base_uri": "https://localhost:8080/"
        },
        "id": "825XLoIXZeQO",
        "outputId": "6fe9ac6a-b3c7-4d15-fcec-b36631c069b0"
      },
      "execution_count": null,
      "outputs": [
        {
          "output_type": "stream",
          "name": "stdout",
          "text": [
            "Before Training, test loss is 1.8432748317718506\n"
          ]
        }
      ]
    },
    {
      "cell_type": "code",
      "source": [
        "for epoch in range(epochs):\n",
        "  model.train()\n",
        "  optimizer.zero_grad()\n",
        "  train_output = model(x_train)\n",
        "  train_loss = criterion(train_output.squeeze(), y_train)\n",
        "  if epoch % 100 == 0:\n",
        "    print('Train loss at {} is {}'.format(epoch, train_loss.item()))\n",
        "  train_loss.backward()\n",
        "  optimizer.step()"
      ],
      "metadata": {
        "colab": {
          "base_uri": "https://localhost:8080/"
        },
        "id": "bPYw2_74Z7NL",
        "outputId": "20756fce-2c4a-404b-8864-a9e502335536"
      },
      "execution_count": null,
      "outputs": [
        {
          "output_type": "stream",
          "name": "stdout",
          "text": [
            "Train loss at 0 is 1.8438571691513062\n",
            "Train loss at 100 is 1.2548044919967651\n",
            "Train loss at 200 is 1.144402265548706\n",
            "Train loss at 300 is 1.1021885871887207\n",
            "Train loss at 400 is 1.071956992149353\n",
            "Train loss at 500 is 1.0515931844711304\n",
            "Train loss at 600 is 1.0386497974395752\n",
            "Train loss at 700 is 1.0302627086639404\n",
            "Train loss at 800 is 1.0245717763900757\n",
            "Train loss at 900 is 1.0205308198928833\n",
            "Train loss at 1000 is 1.0175437927246094\n",
            "Train loss at 1100 is 1.0152661800384521\n",
            "Train loss at 1200 is 1.0134871006011963\n",
            "Train loss at 1300 is 1.0120518207550049\n",
            "Train loss at 1400 is 1.0108712911605835\n",
            "Train loss at 1500 is 1.009885549545288\n",
            "Train loss at 1600 is 1.009049892425537\n",
            "Train loss at 1700 is 1.0083335638046265\n",
            "Train loss at 1800 is 1.0077134370803833\n",
            "Train loss at 1900 is 1.007171392440796\n"
          ]
        }
      ]
    },
    {
      "cell_type": "code",
      "source": [
        "model.eval()\n",
        "test_loss_after = criterion(model(x_test).squeeze(), y_test)\n",
        "print('After Training, test loss is {}'.format(test_loss_after.item()))"
      ],
      "metadata": {
        "colab": {
          "base_uri": "https://localhost:8080/"
        },
        "id": "EzqdmLaCbYoZ",
        "outputId": "92261114-1110-4450-b25b-ae3469f4ec41"
      },
      "execution_count": null,
      "outputs": [
        {
          "output_type": "stream",
          "name": "stdout",
          "text": [
            "After Training, test loss is 1.01137113571167\n"
          ]
        }
      ]
    },
    {
      "cell_type": "code",
      "source": [
        "torch.save(model.state_dict(), './model.pt')"
      ],
      "metadata": {
        "id": "BimLQ_nZdoO7"
      },
      "execution_count": null,
      "outputs": []
    },
    {
      "cell_type": "code",
      "source": [
        "new_model = NeuralNet(2, 5)\n",
        "new_model.load_state_dict(torch.load('./model.pt'))\n",
        "new_model.eval()\n",
        "print('Exist Model: ', new_model(torch.FloatTensor([-1, 1])).item())"
      ],
      "metadata": {
        "colab": {
          "base_uri": "https://localhost:8080/"
        },
        "id": "NWJYOTndecsA",
        "outputId": "e91e4750-2cba-4130-ddf8-eb7bbfc16c46"
      },
      "execution_count": null,
      "outputs": [
        {
          "output_type": "stream",
          "name": "stdout",
          "text": [
            "Exist Model:  0.9990612864494324\n"
          ]
        }
      ]
    },
    {
      "cell_type": "code",
      "source": [
        ""
      ],
      "metadata": {
        "id": "YGgjX_-ihTLG"
      },
      "execution_count": null,
      "outputs": []
    }
  ]
}
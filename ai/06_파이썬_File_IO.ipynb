{
  "nbformat": 4,
  "nbformat_minor": 0,
  "metadata": {
    "colab": {
      "name": "6. 파이썬 File IO",
      "provenance": [],
      "collapsed_sections": []
    },
    "kernelspec": {
      "name": "python3",
      "display_name": "Python 3"
    },
    "language_info": {
      "name": "python"
    }
  },
  "cells": [
    {
      "cell_type": "code",
      "execution_count": null,
      "metadata": {
        "id": "xu2h6nE1j8Mp"
      },
      "outputs": [],
      "source": [
        "f = open('test.txt')"
      ]
    },
    {
      "cell_type": "code",
      "source": [
        "f = open('test.txt', \"rt\")"
      ],
      "metadata": {
        "id": "Ex0VFPKak_bb"
      },
      "execution_count": null,
      "outputs": []
    },
    {
      "cell_type": "code",
      "source": [
        "print(f.read())"
      ],
      "metadata": {
        "colab": {
          "base_uri": "https://localhost:8080/"
        },
        "id": "uPc3NFfvlH1I",
        "outputId": "a886540b-ec48-4d50-b145-6bc24ed7b8ae"
      },
      "execution_count": null,
      "outputs": [
        {
          "output_type": "stream",
          "name": "stdout",
          "text": [
            "1. This is test for File IO\n",
            "2. Happy New Year 2022!\n",
            "3. You Can Do It!\n",
            "4. The Dog Is So Cute\n",
            "5. The Flower Is So Beautiful\n",
            "\n"
          ]
        }
      ]
    },
    {
      "cell_type": "code",
      "source": [
        "f = open(\"test.txt\", \"r\")"
      ],
      "metadata": {
        "id": "_MxMNb-OlT_g"
      },
      "execution_count": null,
      "outputs": []
    },
    {
      "cell_type": "code",
      "source": [
        "print(f.read(5))"
      ],
      "metadata": {
        "colab": {
          "base_uri": "https://localhost:8080/"
        },
        "id": "6EzMM3D3lbql",
        "outputId": "82850b66-94e6-416c-a704-f5c450d4fdc9"
      },
      "execution_count": null,
      "outputs": [
        {
          "output_type": "stream",
          "name": "stdout",
          "text": [
            "1. Th\n"
          ]
        }
      ]
    },
    {
      "cell_type": "code",
      "source": [
        "print(f.readline())"
      ],
      "metadata": {
        "colab": {
          "base_uri": "https://localhost:8080/"
        },
        "id": "R7431R4ZlkXx",
        "outputId": "0b9ffca2-d2e4-42a1-887a-f569ff6d0fb6"
      },
      "execution_count": null,
      "outputs": [
        {
          "output_type": "stream",
          "name": "stdout",
          "text": [
            "2. Happy New Year 2022!\n",
            "\n"
          ]
        }
      ]
    },
    {
      "cell_type": "code",
      "source": [
        "f = open(\"test.txt\", \"r\")\n",
        "\n",
        "for x in f:\n",
        "  print(x)"
      ],
      "metadata": {
        "colab": {
          "base_uri": "https://localhost:8080/"
        },
        "id": "LNNp4N-RlozG",
        "outputId": "0a91b1b0-88dc-4626-f006-3cfa24e9836c"
      },
      "execution_count": null,
      "outputs": [
        {
          "output_type": "stream",
          "name": "stdout",
          "text": [
            "1. This is test for File IO\n",
            "\n",
            "2. Happy New Year 2022!\n",
            "\n",
            "3. You Can Do It!\n",
            "\n",
            "4. The Dog Is So Cute\n",
            "\n",
            "5. The Flower Is So Beautiful\n",
            "\n"
          ]
        }
      ]
    },
    {
      "cell_type": "code",
      "source": [
        "f.close()"
      ],
      "metadata": {
        "id": "GpZkExOAlyUR"
      },
      "execution_count": null,
      "outputs": []
    },
    {
      "cell_type": "code",
      "source": [
        "f = open('test.txt', 'a')\n",
        "f.write('Now the file has more content!')\n",
        "f.close()"
      ],
      "metadata": {
        "id": "x5YlkZ5plzpR"
      },
      "execution_count": null,
      "outputs": []
    },
    {
      "cell_type": "code",
      "source": [
        "f = open('test.txt', 'w')\n",
        "f.write('woops! I have deleted the content!')\n",
        "f.close()\n",
        "# 1. This is test for File IO\n",
        "# 2. Happy New Year 2022!\n",
        "# 3. You Can Do It!\n",
        "# 4. The Dog Is So Cute\n",
        "# 5. The Flower Is So Beautiful\n",
        "# Now the file has more content!Now the file has more content!"
      ],
      "metadata": {
        "id": "lLQu_Qjpl_UF"
      },
      "execution_count": null,
      "outputs": []
    },
    {
      "cell_type": "code",
      "source": [
        "f = open('newfile.txt', 'x')"
      ],
      "metadata": {
        "id": "lp9Fj0UYmNmg"
      },
      "execution_count": null,
      "outputs": []
    },
    {
      "cell_type": "code",
      "source": [
        "import os"
      ],
      "metadata": {
        "id": "FIBB0my1mvVq"
      },
      "execution_count": null,
      "outputs": []
    },
    {
      "cell_type": "code",
      "source": [
        "os.remove(\"newfile.txt\")"
      ],
      "metadata": {
        "id": "1yQsGDGem055"
      },
      "execution_count": null,
      "outputs": []
    },
    {
      "cell_type": "code",
      "source": [
        "if os.path.exists('test.txt'):\n",
        "  print(\"exist\")\n",
        "else:\n",
        "  print('The file does not exist')\n",
        "\n",
        "if os.path.isfile('test1.txt'):\n",
        "  print('is File')\n",
        "else:\n",
        "  print('no File')"
      ],
      "metadata": {
        "colab": {
          "base_uri": "https://localhost:8080/"
        },
        "id": "jkiorxB7m384",
        "outputId": "9c6b0e4f-0fd5-4f4c-a4df-41c3b08c9d97"
      },
      "execution_count": null,
      "outputs": [
        {
          "output_type": "stream",
          "name": "stdout",
          "text": [
            "exist\n",
            "no File\n"
          ]
        }
      ]
    },
    {
      "cell_type": "code",
      "source": [
        "import pandas"
      ],
      "metadata": {
        "id": "Cgk_V9ZvnKDU"
      },
      "execution_count": null,
      "outputs": []
    },
    {
      "cell_type": "code",
      "source": [
        "mydataset = {\n",
        "    'cars': ['bmw', 'benz', 'ford'],\n",
        "    'pass': [3, 7, 2]\n",
        "}\n",
        "\n",
        "myvar = pandas.DataFrame(mydataset)\n",
        "\n",
        "print(myvar)"
      ],
      "metadata": {
        "colab": {
          "base_uri": "https://localhost:8080/"
        },
        "id": "YiSMklTinwjv",
        "outputId": "ed22c84c-7ef9-445d-8a83-44bfe9d950fc"
      },
      "execution_count": null,
      "outputs": [
        {
          "output_type": "stream",
          "name": "stdout",
          "text": [
            "   cars  pass\n",
            "0   bmw     3\n",
            "1  benz     7\n",
            "2  ford     2\n"
          ]
        }
      ]
    },
    {
      "cell_type": "code",
      "source": [
        "import pandas as pd"
      ],
      "metadata": {
        "id": "1q-U9b5VoF2v"
      },
      "execution_count": null,
      "outputs": []
    },
    {
      "cell_type": "code",
      "source": [
        "mydataset = {\n",
        "    'cars': ['bmw', 'benz', 'ford'],\n",
        "    'pass': [3, 7, 2]\n",
        "}\n",
        "\n",
        "df = pd.DataFrame(mydataset)\n",
        "\n",
        "print(df.at[1, 'cars'])"
      ],
      "metadata": {
        "colab": {
          "base_uri": "https://localhost:8080/"
        },
        "id": "OHKpFLxIoMO5",
        "outputId": "a54b7a47-3841-4e40-8b0d-f6560320eef4"
      },
      "execution_count": null,
      "outputs": [
        {
          "output_type": "stream",
          "name": "stdout",
          "text": [
            "benz\n"
          ]
        }
      ]
    },
    {
      "cell_type": "code",
      "source": [
        "print(df.loc[0])"
      ],
      "metadata": {
        "colab": {
          "base_uri": "https://localhost:8080/"
        },
        "id": "m8uQVLZJoRYt",
        "outputId": "14370715-8ce5-4212-c736-c79325262954"
      },
      "execution_count": null,
      "outputs": [
        {
          "output_type": "stream",
          "name": "stdout",
          "text": [
            "cars    bmw\n",
            "pass      3\n",
            "Name: 0, dtype: object\n"
          ]
        }
      ]
    },
    {
      "cell_type": "code",
      "source": [
        "print(df.loc[[0, 1]])"
      ],
      "metadata": {
        "colab": {
          "base_uri": "https://localhost:8080/"
        },
        "id": "UspE6MacoaTn",
        "outputId": "51d30638-2dd4-4528-e933-3a0c6cff4a35"
      },
      "execution_count": null,
      "outputs": [
        {
          "output_type": "stream",
          "name": "stdout",
          "text": [
            "   cars  pass\n",
            "0   bmw     3\n",
            "1  benz     7\n"
          ]
        }
      ]
    },
    {
      "cell_type": "code",
      "source": [
        "df = pd.DataFrame(mydataset, index = ['day1', 'day2', 'day3'])"
      ],
      "metadata": {
        "id": "zX1btKD2okBK"
      },
      "execution_count": null,
      "outputs": []
    },
    {
      "cell_type": "code",
      "source": [
        "print(df)"
      ],
      "metadata": {
        "colab": {
          "base_uri": "https://localhost:8080/"
        },
        "id": "7MPc_uSxo3uj",
        "outputId": "b14e20b1-fc39-4a8b-d8ff-51ee633e12eb"
      },
      "execution_count": null,
      "outputs": [
        {
          "output_type": "stream",
          "name": "stdout",
          "text": [
            "      cars  pass\n",
            "day1   bmw     3\n",
            "day2  benz     7\n",
            "day3  ford     2\n"
          ]
        }
      ]
    },
    {
      "cell_type": "code",
      "source": [
        "import pandas as pd\n",
        "\n",
        "df = pd.read_csv('info2.csv')\n",
        "print(df)"
      ],
      "metadata": {
        "colab": {
          "base_uri": "https://localhost:8080/"
        },
        "id": "37Sjtzi8o7rz",
        "outputId": "36f4d9f4-47b1-478f-9a01-c87b0324c93b"
      },
      "execution_count": null,
      "outputs": [
        {
          "output_type": "stream",
          "name": "stdout",
          "text": [
            "    Name  Age  Tall\n",
            "0   Ella   28   160\n",
            "1  Ricky   41   180\n"
          ]
        }
      ]
    },
    {
      "cell_type": "code",
      "source": [
        "print(df.to_string())"
      ],
      "metadata": {
        "colab": {
          "base_uri": "https://localhost:8080/"
        },
        "id": "6CW7lPxxqXkx",
        "outputId": "c95a1aee-8bc9-43fe-875c-c54d796a3c92"
      },
      "execution_count": null,
      "outputs": [
        {
          "output_type": "stream",
          "name": "stdout",
          "text": [
            "    Name  Age  Tall\n",
            "0   Ella   28   160\n",
            "1  Ricky   41   180\n"
          ]
        }
      ]
    },
    {
      "cell_type": "code",
      "source": [
        "f = open('test.txt')\n",
        "print(f.readlines())\n",
        "f.close()"
      ],
      "metadata": {
        "id": "UaN0Qz71qj3U",
        "colab": {
          "base_uri": "https://localhost:8080/"
        },
        "outputId": "c302d11a-5f44-4f61-aaa9-1e8a59626132"
      },
      "execution_count": null,
      "outputs": [
        {
          "output_type": "stream",
          "name": "stdout",
          "text": [
            "['1. This is test for File IO\\n', '2. Happy New Year 2022!\\n', '3. You Can Do It!\\n', '4. The Dog Is So Cute\\n', '5. The Flower Is So Beautiful\\n']\n"
          ]
        }
      ]
    }
  ]
}
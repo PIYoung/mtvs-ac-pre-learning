{
  "nbformat": 4,
  "nbformat_minor": 0,
  "metadata": {
    "colab": {
      "name": "1. 파이썬 개요",
      "provenance": [],
      "collapsed_sections": []
    },
    "kernelspec": {
      "name": "python3",
      "display_name": "Python 3"
    },
    "language_info": {
      "name": "python"
    }
  },
  "cells": [
    {
      "cell_type": "code",
      "execution_count": null,
      "metadata": {
        "colab": {
          "base_uri": "https://localhost:8080/"
        },
        "id": "3SG-N1J8SzgK",
        "outputId": "4bb51e1a-8554-457e-ccc6-bcbd63c97804"
      },
      "outputs": [
        {
          "output_type": "stream",
          "name": "stdout",
          "text": [
            "Python 3.7.13\n"
          ]
        }
      ],
      "source": [
        "!python --version"
      ]
    },
    {
      "cell_type": "code",
      "source": [
        "print(\"hello world!\")"
      ],
      "metadata": {
        "colab": {
          "base_uri": "https://localhost:8080/"
        },
        "id": "vYKcVSPOS9Ir",
        "outputId": "6b823402-be25-42f6-e834-b92298638891"
      },
      "execution_count": null,
      "outputs": [
        {
          "output_type": "stream",
          "name": "stdout",
          "text": [
            "hello world!\n"
          ]
        }
      ]
    },
    {
      "cell_type": "code",
      "source": [
        "if 5 > 2:\n",
        "  print(\"5 bigger than 2\")\n",
        "else:\n",
        "  print(\"no\")"
      ],
      "metadata": {
        "colab": {
          "base_uri": "https://localhost:8080/"
        },
        "id": "meYwFfTbTAMl",
        "outputId": "d573fc6c-42d1-453e-bb32-7cd40753aae0"
      },
      "execution_count": null,
      "outputs": [
        {
          "output_type": "stream",
          "name": "stdout",
          "text": [
            "5 bigger than 2\n"
          ]
        }
      ]
    },
    {
      "cell_type": "code",
      "source": [
        "if 5 > 2:\n",
        "  print(\"5 is bigger than 2\")"
      ],
      "metadata": {
        "colab": {
          "base_uri": "https://localhost:8080/"
        },
        "id": "4PMVUlInTKpV",
        "outputId": "0bcf2461-9691-4736-a6a8-0fbeb447167d"
      },
      "execution_count": null,
      "outputs": [
        {
          "output_type": "stream",
          "name": "stdout",
          "text": [
            "5 is bigger than 2\n"
          ]
        }
      ]
    },
    {
      "cell_type": "code",
      "source": [
        "if 5 > 2:\n",
        "      print('5')"
      ],
      "metadata": {
        "colab": {
          "base_uri": "https://localhost:8080/"
        },
        "id": "FcAApOIWTRwN",
        "outputId": "30457c73-d11d-4128-ef6c-9a315eabc57a"
      },
      "execution_count": null,
      "outputs": [
        {
          "output_type": "stream",
          "name": "stdout",
          "text": [
            "5\n"
          ]
        }
      ]
    },
    {
      "cell_type": "code",
      "source": [
        "x = 5\n",
        "y = \"Hello, World!\""
      ],
      "metadata": {
        "id": "Ma-CMYCXTnrb"
      },
      "execution_count": null,
      "outputs": []
    },
    {
      "cell_type": "code",
      "source": [
        "print(x)"
      ],
      "metadata": {
        "colab": {
          "base_uri": "https://localhost:8080/"
        },
        "id": "FA0ktgCpTrab",
        "outputId": "f800b44a-ab2b-4344-ac58-f12eb0166749"
      },
      "execution_count": null,
      "outputs": [
        {
          "output_type": "stream",
          "name": "stdout",
          "text": [
            "5\n"
          ]
        }
      ]
    },
    {
      "cell_type": "code",
      "source": [
        "# this is a comment\n",
        "print(\"Hello\")"
      ],
      "metadata": {
        "colab": {
          "base_uri": "https://localhost:8080/"
        },
        "id": "VEdRchniTu6m",
        "outputId": "7c8b1a06-f378-4a24-dba4-b198e6280b61"
      },
      "execution_count": null,
      "outputs": [
        {
          "output_type": "stream",
          "name": "stdout",
          "text": [
            "Hello\n"
          ]
        }
      ]
    },
    {
      "cell_type": "code",
      "source": [
        "# print(\"Hello\") # comment here"
      ],
      "metadata": {
        "id": "70lz7incT1Ft"
      },
      "execution_count": null,
      "outputs": []
    },
    {
      "cell_type": "code",
      "source": [
        "\"\"\"\n",
        "This is a comment\n",
        "This 2\n",
        "This 3\n",
        "\"\"\"\n",
        "print(\"this!!\")"
      ],
      "metadata": {
        "colab": {
          "base_uri": "https://localhost:8080/"
        },
        "id": "eb2-JWZZT4QD",
        "outputId": "98969e60-b916-4d2f-fd38-0984e83f17e1"
      },
      "execution_count": null,
      "outputs": [
        {
          "output_type": "stream",
          "name": "stdout",
          "text": [
            "this!!\n"
          ]
        }
      ]
    },
    {
      "cell_type": "code",
      "source": [
        "x = 5\n",
        "y = \"hello\"\n",
        "\n",
        "print(x)\n",
        "print(y)"
      ],
      "metadata": {
        "colab": {
          "base_uri": "https://localhost:8080/"
        },
        "id": "awB-zrYPUMFi",
        "outputId": "1dbea843-bb26-405d-c1e9-90e5f109d97a"
      },
      "execution_count": null,
      "outputs": [
        {
          "output_type": "stream",
          "name": "stdout",
          "text": [
            "5\n",
            "hello\n"
          ]
        }
      ]
    },
    {
      "cell_type": "code",
      "source": [
        "x = 5\n",
        "x = \"ella\"\n",
        "print(x)"
      ],
      "metadata": {
        "colab": {
          "base_uri": "https://localhost:8080/"
        },
        "id": "2NxgAQx1UTli",
        "outputId": "9ba64ab7-a7fc-4a42-e488-33dec065f478"
      },
      "execution_count": null,
      "outputs": [
        {
          "output_type": "stream",
          "name": "stdout",
          "text": [
            "ella\n"
          ]
        }
      ]
    },
    {
      "cell_type": "code",
      "source": [
        "x = str(3)\n",
        "y = int(3)\n",
        "z = float(3)\n",
        "\n",
        "print(x)\n",
        "print(y)\n",
        "print(z)"
      ],
      "metadata": {
        "colab": {
          "base_uri": "https://localhost:8080/"
        },
        "id": "OIqLEC6YUbNO",
        "outputId": "7635d8b6-eafb-45ca-81c9-0d12848cb89a"
      },
      "execution_count": null,
      "outputs": [
        {
          "output_type": "stream",
          "name": "stdout",
          "text": [
            "3\n",
            "3\n",
            "3.0\n"
          ]
        }
      ]
    },
    {
      "cell_type": "code",
      "source": [
        "print(type(x))\n",
        "print(type(y))\n",
        "print(type(z))"
      ],
      "metadata": {
        "colab": {
          "base_uri": "https://localhost:8080/"
        },
        "id": "8zTJt1ztUout",
        "outputId": "3a0eb70c-e5a4-4e6d-a5f9-bedcdb86930d"
      },
      "execution_count": null,
      "outputs": [
        {
          "output_type": "stream",
          "name": "stdout",
          "text": [
            "<class 'str'>\n",
            "<class 'int'>\n",
            "<class 'float'>\n"
          ]
        }
      ]
    },
    {
      "cell_type": "code",
      "source": [
        "x = \"Jonhe\""
      ],
      "metadata": {
        "id": "nXUcBI7yUv32"
      },
      "execution_count": null,
      "outputs": []
    },
    {
      "cell_type": "code",
      "source": [
        "myvar = 'ella'\n",
        "my_var = 'ella'\n",
        "_my_var = 'ella'\n",
        "myVar = 'ella'\n",
        "MYVAR = 'ella'\n",
        "myvar2 = 'ella'"
      ],
      "metadata": {
        "id": "9c5eZWB5U7Ut"
      },
      "execution_count": null,
      "outputs": []
    },
    {
      "cell_type": "code",
      "source": [
        "# Don't do this\n",
        "# 2myvar = \"ella\"\n",
        "# my-var = \"ella\"\n",
        "# my var = \"ella\""
      ],
      "metadata": {
        "id": "S6RnMmq8VHbo"
      },
      "execution_count": null,
      "outputs": []
    },
    {
      "cell_type": "code",
      "source": [
        "myVarName = \"Ella\" # camelCase\n",
        "MyVarName = \"Ella\" # PascalCase\n",
        "my_var_name = 'Ella' # snake_case"
      ],
      "metadata": {
        "id": "q8X5MMvWVQpG"
      },
      "execution_count": null,
      "outputs": []
    },
    {
      "cell_type": "code",
      "source": [
        "x, y, z = \"Orange\", \"Straw\", \"Cherry\"\n",
        "\n",
        "print(x, y, z)"
      ],
      "metadata": {
        "colab": {
          "base_uri": "https://localhost:8080/"
        },
        "id": "yD8qzXb1VdV5",
        "outputId": "a43d0f1c-399d-4d52-b57b-e86a61236062"
      },
      "execution_count": null,
      "outputs": [
        {
          "output_type": "stream",
          "name": "stdout",
          "text": [
            "Orange Straw Cherry\n"
          ]
        }
      ]
    },
    {
      "cell_type": "code",
      "source": [
        "x = \"Hello\" # str\n",
        "x = 20 # int\n",
        "x = 20.5 # float\n",
        "x = 1j # complex\n",
        "x = ['a', 'b', 'c'] # list\n",
        "x = ('a', 'b', 'c') # tuple\n",
        "x = range(6) # range\n",
        "x = {\"name\": \"john\"} # dictionary\n",
        "x = {'a', 'b'} # set\n",
        "x = True # bool\n",
        "x = b\"hello\" # bytes\n",
        "x = bytearray(5) # bytearray\n",
        "x = memoryview(byte(5)) # memoryview"
      ],
      "metadata": {
        "id": "eQrqYBdQXE1G"
      },
      "execution_count": null,
      "outputs": []
    }
  ]
}
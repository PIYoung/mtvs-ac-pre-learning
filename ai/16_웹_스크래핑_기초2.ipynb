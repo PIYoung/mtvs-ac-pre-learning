{
  "nbformat": 4,
  "nbformat_minor": 0,
  "metadata": {
    "colab": {
      "name": "16. 웹 스크래핑 기초2",
      "provenance": [],
      "collapsed_sections": []
    },
    "kernelspec": {
      "name": "python3",
      "display_name": "Python 3"
    },
    "language_info": {
      "name": "python"
    }
  },
  "cells": [
    {
      "cell_type": "markdown",
      "source": [
        "## BeautifulSoup\n",
        "\n",
        "### BeautifulSoup 라이브러리\n",
        "\n",
        "- HTML, XML, JSON등의 구문을 분석하는데 사용되는 모듈\n"
      ],
      "metadata": {
        "id": "6SWOOW_X0AGR"
      }
    },
    {
      "cell_type": "code",
      "execution_count": null,
      "metadata": {
        "id": "EzXyqPrKz2fk"
      },
      "outputs": [],
      "source": [
        ""
      ]
    }
  ]
}
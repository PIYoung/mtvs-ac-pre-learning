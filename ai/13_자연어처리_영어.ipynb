{
  "nbformat": 4,
  "nbformat_minor": 0,
  "metadata": {
    "colab": {
      "name": "13. 자연어처리-영어",
      "provenance": [],
      "collapsed_sections": []
    },
    "kernelspec": {
      "name": "python3",
      "display_name": "Python 3"
    },
    "language_info": {
      "name": "python"
    }
  },
  "cells": [
    {
      "cell_type": "markdown",
      "source": [
        "## NLTK란\n",
        "\n",
        "NLTK 패키지는 교육용으로 개발된 자연어 처리 및 문서 분석용 파이썬 패키지\\\n",
        "다양한 기능 및 예제가 있으며 실무연구에도 많이 사용\n",
        "\n",
        "### NLTK 패키지 주요 기능\n",
        "\n",
        "- 말뭉치\n",
        "- 토큰 생성\n",
        "- 형태소 분석\n",
        "- 품사 태깅\n"
      ],
      "metadata": {
        "id": "Cpus5L42AvTC"
      }
    },
    {
      "cell_type": "markdown",
      "source": [
        "### 말뭉치\n",
        "\n",
        "- 말뭉치란 자연어 분석 작업을 위해 만든 샘플 문서의 집합\n",
        "- NLTK 패키지의 corpus 서브패키지에서 말뭉치 제공\n",
        "- nltk.download 명령어로 다운로드"
      ],
      "metadata": {
        "id": "hbva-tSIBF_s"
      }
    },
    {
      "cell_type": "code",
      "source": [
        "import nltk\n",
        "\n",
        "nltk.download('book', quiet=True)\n",
        "\n",
        "from nltk.book import *"
      ],
      "metadata": {
        "colab": {
          "base_uri": "https://localhost:8080/"
        },
        "id": "GCiac4NBBis-",
        "outputId": "425234c9-9da0-4571-8595-cf658fae0d3e"
      },
      "execution_count": null,
      "outputs": [
        {
          "output_type": "stream",
          "name": "stdout",
          "text": [
            "*** Introductory Examples for the NLTK Book ***\n",
            "Loading text1, ..., text9 and sent1, ..., sent9\n",
            "Type the name of the text or sentence to view it.\n",
            "Type: 'texts()' or 'sents()' to list the materials.\n",
            "text1: Moby Dick by Herman Melville 1851\n",
            "text2: Sense and Sensibility by Jane Austen 1811\n",
            "text3: The Book of Genesis\n",
            "text4: Inaugural Address Corpus\n",
            "text5: Chat Corpus\n",
            "text6: Monty Python and the Holy Grail\n",
            "text7: Wall Street Journal\n",
            "text8: Personals Corpus\n",
            "text9: The Man Who Was Thursday by G . K . Chesterton 1908\n"
          ]
        }
      ]
    },
    {
      "cell_type": "code",
      "source": [
        "nltk.corpus.gutenberg.fileids()"
      ],
      "metadata": {
        "colab": {
          "base_uri": "https://localhost:8080/"
        },
        "id": "ySJ-Sfc9B1Hl",
        "outputId": "a0833928-c8e5-46ef-af08-db54266e3a28"
      },
      "execution_count": null,
      "outputs": [
        {
          "output_type": "execute_result",
          "data": {
            "text/plain": [
              "['austen-emma.txt',\n",
              " 'austen-persuasion.txt',\n",
              " 'austen-sense.txt',\n",
              " 'bible-kjv.txt',\n",
              " 'blake-poems.txt',\n",
              " 'bryant-stories.txt',\n",
              " 'burgess-busterbrown.txt',\n",
              " 'carroll-alice.txt',\n",
              " 'chesterton-ball.txt',\n",
              " 'chesterton-brown.txt',\n",
              " 'chesterton-thursday.txt',\n",
              " 'edgeworth-parents.txt',\n",
              " 'melville-moby_dick.txt',\n",
              " 'milton-paradise.txt',\n",
              " 'shakespeare-caesar.txt',\n",
              " 'shakespeare-hamlet.txt',\n",
              " 'shakespeare-macbeth.txt',\n",
              " 'whitman-leaves.txt']"
            ]
          },
          "metadata": {},
          "execution_count": 2
        }
      ]
    },
    {
      "cell_type": "code",
      "source": [
        "carroll_raw = nltk.corpus.gutenberg.raw('carroll-alice.txt')\n",
        "print(carroll_raw[:100])"
      ],
      "metadata": {
        "colab": {
          "base_uri": "https://localhost:8080/"
        },
        "id": "0Ua0YjqICOkl",
        "outputId": "2efbef72-c376-4e0d-f15d-eca16054c747"
      },
      "execution_count": null,
      "outputs": [
        {
          "output_type": "stream",
          "name": "stdout",
          "text": [
            "[Alice's Adventures in Wonderland by Lewis Carroll 1865]\n",
            "\n",
            "CHAPTER I. Down the Rabbit-Hole\n",
            "\n",
            "Alice was\n"
          ]
        }
      ]
    },
    {
      "cell_type": "markdown",
      "source": [
        "### 토큰생성\n",
        "\n",
        "- 토큰이랑 자연어 문서를 분석하기 위해 긴 문자열을 분석하여 작은 단위로 나눈 것\n",
        "- 토큰생성: 문자열을 토큰으로 나누는 작업"
      ],
      "metadata": {
        "id": "IFgZO8eMCm3v"
      }
    },
    {
      "cell_type": "code",
      "source": [
        "from nltk.tokenize import sent_tokenize\n",
        "print(sent_tokenize(carroll_raw[:1000])[1])"
      ],
      "metadata": {
        "colab": {
          "base_uri": "https://localhost:8080/"
        },
        "id": "WEjnWD5QCbzH",
        "outputId": "05880cd3-e752-4a87-8bd9-76f354871209"
      },
      "execution_count": null,
      "outputs": [
        {
          "output_type": "stream",
          "name": "stdout",
          "text": [
            "Down the Rabbit-Hole\n",
            "\n",
            "Alice was beginning to get very tired of sitting by her sister on the\n",
            "bank, and of having nothing to do: once or twice she had peeped into the\n",
            "book her sister was reading, but it had no pictures or conversations in\n",
            "it, 'and what is the use of a book,' thought Alice 'without pictures or\n",
            "conversation?'\n"
          ]
        }
      ]
    },
    {
      "cell_type": "code",
      "source": [
        "from nltk.tokenize import word_tokenize\n",
        "print(word_tokenize(carroll_raw[:100]))"
      ],
      "metadata": {
        "colab": {
          "base_uri": "https://localhost:8080/"
        },
        "id": "xCNMgC-MC78l",
        "outputId": "f70ee441-ee10-4180-e449-ded7efd17347"
      },
      "execution_count": null,
      "outputs": [
        {
          "output_type": "stream",
          "name": "stdout",
          "text": [
            "['[', 'Alice', \"'s\", 'Adventures', 'in', 'Wonderland', 'by', 'Lewis', 'Carroll', '1865', ']', 'CHAPTER', 'I', '.', 'Down', 'the', 'Rabbit-Hole', 'Alice', 'was']\n"
          ]
        }
      ]
    },
    {
      "cell_type": "code",
      "source": [
        "from nltk.tokenize import RegexpTokenizer\n",
        "reg_token = RegexpTokenizer('[\\w]+')\n",
        "reg_token.tokenize(carroll_raw[:100])"
      ],
      "metadata": {
        "colab": {
          "base_uri": "https://localhost:8080/"
        },
        "id": "_imO5CaBDK4I",
        "outputId": "18c47a1b-839e-4d5d-a0b2-b1b7d630b3c7"
      },
      "execution_count": null,
      "outputs": [
        {
          "output_type": "execute_result",
          "data": {
            "text/plain": [
              "['Alice',\n",
              " 's',\n",
              " 'Adventures',\n",
              " 'in',\n",
              " 'Wonderland',\n",
              " 'by',\n",
              " 'Lewis',\n",
              " 'Carroll',\n",
              " '1865',\n",
              " 'CHAPTER',\n",
              " 'I',\n",
              " 'Down',\n",
              " 'the',\n",
              " 'Rabbit',\n",
              " 'Hole',\n",
              " 'Alice',\n",
              " 'was']"
            ]
          },
          "metadata": {},
          "execution_count": 12
        }
      ]
    },
    {
      "cell_type": "markdown",
      "source": [
        "### 형태소분석\n",
        "\n",
        "- 형태소란 언어학에서 일정한 의미가 있는 가장 작은 말의 단위\n",
        "- 형태소 분석이란 단어로 부터 어근, 접두사, 접미사, 품사 등 다양한 언어적 속성을 파악하고 형태소를 찾아내는 작업\n",
        "\n",
        "#### 어간추출\n",
        "\n",
        "- 어간추출은 변화된 단어의 접미사나 어미를 제거하여 형태소의 기본형을 찾는 방법\n",
        "\n",
        "#### 원형복원\n",
        "\n",
        "- 원형복원은 같은 의미를 가지는 여러 단어를 사전형으로 통일하는 작업"
      ],
      "metadata": {
        "id": "oKvlqT6QDu_Z"
      }
    },
    {
      "cell_type": "code",
      "source": [
        "from nltk.stem import PorterStemmer, LancasterStemmer\n",
        "\n",
        "st1 = PorterStemmer()\n",
        "st2 = LancasterStemmer()\n",
        "\n",
        "words = ['working', 'works', 'worded']\n",
        "\n",
        "for temp in words:\n",
        "  print(st1.stem(temp))"
      ],
      "metadata": {
        "colab": {
          "base_uri": "https://localhost:8080/"
        },
        "id": "DflGJqsMDm2g",
        "outputId": "3008cc3b-5607-4233-9c6c-e72e7e1943ef"
      },
      "execution_count": null,
      "outputs": [
        {
          "output_type": "stream",
          "name": "stdout",
          "text": [
            "work\n",
            "work\n",
            "word\n"
          ]
        }
      ]
    },
    {
      "cell_type": "code",
      "source": [
        "for temp in words:\n",
        "  print(st2.stem(temp))"
      ],
      "metadata": {
        "colab": {
          "base_uri": "https://localhost:8080/"
        },
        "id": "ugU-6YnfEh0T",
        "outputId": "2062af94-26e1-4d06-e960-44110fe91fea"
      },
      "execution_count": null,
      "outputs": [
        {
          "output_type": "stream",
          "name": "stdout",
          "text": [
            "work\n",
            "work\n",
            "word\n"
          ]
        }
      ]
    },
    {
      "cell_type": "code",
      "source": [
        "from nltk.stem import WordNetLemmatizer\n",
        "\n",
        "words = ['fly', 'flies', 'flying']\n",
        "lm = WordNetLemmatizer()\n",
        "\n",
        "for temp in words:\n",
        "  print(lm.lemmatize(temp, pos='v'))"
      ],
      "metadata": {
        "colab": {
          "base_uri": "https://localhost:8080/"
        },
        "id": "3sjHjVGBEmDU",
        "outputId": "ae3598cd-3ed8-4f61-ab91-7c6191419564"
      },
      "execution_count": null,
      "outputs": [
        {
          "output_type": "stream",
          "name": "stdout",
          "text": [
            "fly\n",
            "fly\n",
            "fly\n"
          ]
        }
      ]
    },
    {
      "cell_type": "markdown",
      "source": [
        "## 품사\n",
        "\n",
        "품사(POS, part-of-speech)는 낱말을 문법적인 기능이나 형태, 뜻에 따라 구분한 것\\\n",
        "품사의 구분은 언어, 학자마다 다름\\\n",
        "NLTK에서는 펜 트리뱅크 태그세트 사용\n",
        "\n",
        "- NNP: 단수 고유명사\n",
        "- VB: 동사\n",
        "- VBP: 동사 현재형\n",
        "- TO: to 전치사\n",
        "- NN: 명사(단수형 혹은 집합형)\n",
        "- DT: 관형사"
      ],
      "metadata": {
        "id": "qqdfBnr9FYLs"
      }
    },
    {
      "cell_type": "code",
      "source": [
        "from nltk.tag import pos_tag\n",
        "\n",
        "sentence = \"Alice's Adventures in Wonderland by Lewis Carroll 1865\"\n",
        "tagged_list = pos_tag(word_tokenize(sentence))\n",
        "tagged_list"
      ],
      "metadata": {
        "colab": {
          "base_uri": "https://localhost:8080/"
        },
        "id": "XQfewxRFFrZy",
        "outputId": "1bd89dca-905a-4a06-db2b-2caf668abc8d"
      },
      "execution_count": null,
      "outputs": [
        {
          "output_type": "execute_result",
          "data": {
            "text/plain": [
              "[('Alice', 'NNP'),\n",
              " (\"'s\", 'POS'),\n",
              " ('Adventures', 'NNS'),\n",
              " ('in', 'IN'),\n",
              " ('Wonderland', 'NNP'),\n",
              " ('by', 'IN'),\n",
              " ('Lewis', 'NNP'),\n",
              " ('Carroll', 'NNP'),\n",
              " ('1865', 'CD')]"
            ]
          },
          "metadata": {},
          "execution_count": 22
        }
      ]
    },
    {
      "cell_type": "code",
      "source": [
        "noun_list = [t[0] for t in tagged_list if t[1] == 'NNP']\n",
        "noun_list"
      ],
      "metadata": {
        "colab": {
          "base_uri": "https://localhost:8080/"
        },
        "id": "cNhrphOcE9RE",
        "outputId": "b515c12f-9c79-4482-9483-41dea8b06974"
      },
      "execution_count": null,
      "outputs": [
        {
          "output_type": "execute_result",
          "data": {
            "text/plain": [
              "['Alice', 'Wonderland', 'Lewis', 'Carroll']"
            ]
          },
          "metadata": {},
          "execution_count": 23
        }
      ]
    },
    {
      "cell_type": "markdown",
      "source": [
        "## Text 클래스\n",
        "\n",
        "- 문서 분석에 유용한 여러가지 메서드 제공"
      ],
      "metadata": {
        "id": "6anfQJbeGguz"
      }
    },
    {
      "cell_type": "code",
      "source": [
        "from nltk import Text\n",
        "\n",
        "text = Text(reg_token.tokenize(carroll_raw))\n",
        "text.plot(20)"
      ],
      "metadata": {
        "colab": {
          "base_uri": "https://localhost:8080/",
          "height": 294
        },
        "id": "ruR5m1-yGW62",
        "outputId": "e917aa24-6fca-4ea2-ffd5-40d9203b938b"
      },
      "execution_count": null,
      "outputs": [
        {
          "output_type": "display_data",
          "data": {
            "text/plain": [
              "<Figure size 432x288 with 1 Axes>"
            ],
            "image/png": "[encoded data removed]"
          },
          "metadata": {
            "needs_background": "light"
          }
        }
      ]
    },
    {
      "cell_type": "code",
      "source": [
        "text.dispersion_plot(['Alice', 'she', 'was', 'carroll'])"
      ],
      "metadata": {
        "colab": {
          "base_uri": "https://localhost:8080/",
          "height": 295
        },
        "id": "iT1Sae27G2-o",
        "outputId": "487d5144-1a2c-4f87-df26-9feb129bc61c"
      },
      "execution_count": null,
      "outputs": [
        {
          "output_type": "display_data",
          "data": {
            "text/plain": [
              "<Figure size 432x288 with 1 Axes>"
            ],
            "image/png": "[encoded data removed]"
          },
          "metadata": {
            "needs_background": "light"
          }
        }
      ]
    },
    {
      "cell_type": "code",
      "source": [
        "text.concordance('Alice')"
      ],
      "metadata": {
        "colab": {
          "base_uri": "https://localhost:8080/"
        },
        "id": "z9h15WXTHMqU",
        "outputId": "63287442-6f89-4a8a-872a-95782613998e"
      },
      "execution_count": null,
      "outputs": [
        {
          "output_type": "stream",
          "name": "stdout",
          "text": [
            "Displaying 25 of 398 matches:\n",
            "                                     Alice s Adventures in Wonderland by Lewis \n",
            "                                     Alice was beginning to get very tired of s\n",
            "nd what is the use of a book thought Alice without pictures or conversation So \n",
            "g so VERY remarkable in that nor did Alice think it so VERY much out of the way\n",
            "and looked at it and then hurried on Alice started to her feet for it flashed a\n",
            "he hedge In another moment down went Alice after it never once considering how \n",
            "ipped suddenly down so suddenly that Alice had not a moment to think about stop\n",
            "rds as she fell past it Well thought Alice to herself after such a fall as this\n",
            "usand miles down I think for you see Alice had learnt several things of this so\n",
            "at Latitude or Longitude I ve got to Alice had no idea what Latitude was or Lon\n",
            "down There was nothing else to do so Alice soon began talking again Dinah ll mi\n",
            "t do cats eat bats I wonder And here Alice began to get rather sleepy and went \n",
            "and dry leaves and the fall was over Alice was not a bit hurt and she jumped up\n",
            "as not a moment to be lost away went Alice like the wind and was just in time t\n",
            "ll but they were all locked and when Alice had been all the way down one side a\n",
            "g on it except a tiny golden key and Alice s first thought was that it might be\n",
            "k and to her great delight it fitted Alice opened the door and found that it le\n",
            "y head would go through thought poor Alice it would be of very little use witho\n",
            " way things had happened lately that Alice had begun to think that very few thi\n",
            "h certainly was not here before said Alice and round the neck of the bottle was\n",
            " to say Drink me but the wise little Alice was not going to do THAT in a hurry \n",
            "this bottle was NOT marked poison so Alice ventured to taste it and finding it \n",
            "d it off What a curious feeling said Alice I must be shutting up like a telesco\n",
            " this for it might end you know said Alice to herself in my going out altogethe\n",
            "the garden at once but alas for poor Alice when she got to the door she found s\n"
          ]
        }
      ]
    },
    {
      "cell_type": "code",
      "source": [
        "text.similar('Alice')"
      ],
      "metadata": {
        "colab": {
          "base_uri": "https://localhost:8080/"
        },
        "id": "1ndRCW21Hyfy",
        "outputId": "9e7ce5cb-9b4c-4b6a-8308-c4f87f09d691"
      },
      "execution_count": null,
      "outputs": [
        {
          "output_type": "stream",
          "name": "stdout",
          "text": [
            "she it her they he this herself them all speak get and say begin do be\n",
            "that see one go\n"
          ]
        }
      ]
    },
    {
      "cell_type": "code",
      "source": [
        "text.common_contexts(['Alice', 'she'])"
      ],
      "metadata": {
        "colab": {
          "base_uri": "https://localhost:8080/"
        },
        "id": "KGQy3lQ7H0He",
        "outputId": "e767b170-3d7a-4f0a-9093-64e77325c11e"
      },
      "execution_count": null,
      "outputs": [
        {
          "output_type": "stream",
          "name": "stdout",
          "text": [
            "that_had when_had and_s but_had so_went and_was and_could and_thought\n",
            "and_heard and_looked as_could that_could know_had moment_appeared\n",
            "so_began time_had moment_felt\n"
          ]
        }
      ]
    },
    {
      "cell_type": "markdown",
      "source": [
        "## FreqDist\n",
        "\n",
        "- 문서에 사용된 단어의 사용 빈도 정보"
      ],
      "metadata": {
        "id": "em9MMDctIGZE"
      }
    },
    {
      "cell_type": "code",
      "source": [
        "Fd = text.vocab()"
      ],
      "metadata": {
        "id": "sLTKkluIH7Ue"
      },
      "execution_count": null,
      "outputs": []
    },
    {
      "cell_type": "code",
      "source": [
        "from nltk import FreqDist\n",
        "\n",
        "stop_words = ['Mr.', 'Mrs.', 'Miss', 'Mr', 'Mrs', 'Dear']\n",
        "carroll_tokens = pos_tag(reg_token.tokenize(carroll_raw))\n",
        "name_list = [t[0] for t in carroll_tokens if t[1] == 'NNP' and t[0] not in stop_words]"
      ],
      "metadata": {
        "id": "QmOMAJwlIWlj"
      },
      "execution_count": null,
      "outputs": []
    },
    {
      "cell_type": "code",
      "source": [
        "fd_names = FreqDist(name_list)\n",
        "fd_names.N()"
      ],
      "metadata": {
        "colab": {
          "base_uri": "https://localhost:8080/"
        },
        "id": "X389vbyBJFhD",
        "outputId": "fa9f3c84-6b20-4790-b39e-605bde899a26"
      },
      "execution_count": null,
      "outputs": [
        {
          "output_type": "execute_result",
          "data": {
            "text/plain": [
              "1981"
            ]
          },
          "metadata": {},
          "execution_count": 44
        }
      ]
    },
    {
      "cell_type": "code",
      "source": [
        "fd_names['Alice']"
      ],
      "metadata": {
        "colab": {
          "base_uri": "https://localhost:8080/"
        },
        "id": "j_1aJLGJJb0D",
        "outputId": "ee190e55-cf83-4558-a46a-de6ed39e8e77"
      },
      "execution_count": null,
      "outputs": [
        {
          "output_type": "execute_result",
          "data": {
            "text/plain": [
              "391"
            ]
          },
          "metadata": {},
          "execution_count": 45
        }
      ]
    },
    {
      "cell_type": "code",
      "source": [
        "fd_names.freq('Alice')"
      ],
      "metadata": {
        "colab": {
          "base_uri": "https://localhost:8080/"
        },
        "id": "HZ7QPv1yJjsN",
        "outputId": "fdb71789-bb67-430a-b440-abc8a9fb8aae"
      },
      "execution_count": null,
      "outputs": [
        {
          "output_type": "execute_result",
          "data": {
            "text/plain": [
              "0.19737506309944472"
            ]
          },
          "metadata": {},
          "execution_count": 46
        }
      ]
    },
    {
      "cell_type": "code",
      "source": [
        "fd_names.most_common(5)"
      ],
      "metadata": {
        "colab": {
          "base_uri": "https://localhost:8080/"
        },
        "id": "owv5hcKcJp10",
        "outputId": "96be2d4b-f4be-4f48-fa18-686c93f83b65"
      },
      "execution_count": null,
      "outputs": [
        {
          "output_type": "execute_result",
          "data": {
            "text/plain": [
              "[('Alice', 391), ('Queen', 73), ('King', 60), ('Turtle', 58), ('Mock', 56)]"
            ]
          },
          "metadata": {},
          "execution_count": 47
        }
      ]
    },
    {
      "cell_type": "code",
      "source": [
        ""
      ],
      "metadata": {
        "id": "hGuvlamvJyVT"
      },
      "execution_count": null,
      "outputs": []
    }
  ]
}